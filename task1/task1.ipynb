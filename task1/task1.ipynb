{
 "cells": [
  {
   "cell_type": "code",
   "execution_count": 3,
   "metadata": {},
   "outputs": [],
   "source": [
    "import cv2\n",
    "import os"
   ]
  },
  {
   "cell_type": "code",
   "execution_count": 21,
   "metadata": {},
   "outputs": [],
   "source": [
    "def load_images_from_folder(folder):\n",
    "    images = []\n",
    "    imgFormat = []\n",
    "    for filename in os.listdir(folder):\n",
    "        #Read the image and convert it to grayscale\n",
    "        img = cv2.imread(os.path.join(folder,filename),cv2.IMREAD_GRAYSCALE)\n",
    "        if img is not None:\n",
    "            images.append(img)\n",
    "            imgFormat.append(img.dtype)\n",
    "            #Upload the grayscale image to the results folder\n",
    "            cv2.imwrite(f'results/{folder}/gray_{filename}',img)\n",
    "    return images,imgFormat"
   ]
  },
  {
   "cell_type": "code",
   "execution_count": null,
   "metadata": {},
   "outputs": [],
   "source": [
    "folder = input()\n",
    "images,imgFormat = load_images_from_folder(folder)\n",
    "print(len(images))\n",
    "print(imgFormat)"
   ]
  }
 ],
 "metadata": {
  "interpreter": {
   "hash": "2b316fb041912d59c89e5a8ffa9e7198af041b445f41f0f225efdbcb1b0e5d9a"
  },
  "kernelspec": {
   "display_name": "Python 3.9.4 64-bit",
   "language": "python",
   "name": "python3"
  },
  "language_info": {
   "codemirror_mode": {
    "name": "ipython",
    "version": 3
   },
   "file_extension": ".py",
   "mimetype": "text/x-python",
   "name": "python",
   "nbconvert_exporter": "python",
   "pygments_lexer": "ipython3",
   "version": "3.9.4"
  },
  "orig_nbformat": 4
 },
 "nbformat": 4,
 "nbformat_minor": 2
}
