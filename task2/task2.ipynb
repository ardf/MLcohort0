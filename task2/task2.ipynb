{
 "cells": [
  {
   "cell_type": "code",
   "execution_count": 1,
   "metadata": {},
   "outputs": [],
   "source": [
    "import os\n",
    "import cv2"
   ]
  },
  {
   "cell_type": "code",
   "execution_count": 2,
   "metadata": {},
   "outputs": [],
   "source": [
    "# Function to read the csv file and get the image label names and coordinates\n",
    "def read_csv(csv_file:str) -> dict:\n",
    "    \"\"\"\n",
    "    Function to read the csv file and get the image label names and coordinates\n",
    "    :param csv_file: csv file\n",
    "    :return: image_info\n",
    "    \"\"\"\n",
    "    image_info = {}\n",
    "    with open(csv_file, 'r') as f:\n",
    "        for line in f:\n",
    "            line = line.strip().split(',')\n",
    "            image_info[line[0]] = line[1:]\n",
    "    return image_info"
   ]
  },
  {
   "cell_type": "code",
   "execution_count": 3,
   "metadata": {},
   "outputs": [],
   "source": [
    "#function to draw the bounding boxes for every image in a given folder\n",
    "def draw_bounding_box(image_folder:str, image_info:dict) -> None:\n",
    "    \"\"\"\n",
    "    Function to draw the bounding boxes for every image in a given folder\n",
    "    :param image_path: image path\n",
    "    :param image_info: image info\n",
    "    :return: None\n",
    "    \"\"\"\n",
    "    for image_path in os.listdir(image_folder):\n",
    "        image = cv2.imread(os.path.join(image_folder,image_path),cv2.IMREAD_UNCHANGED)\n",
    "        coordinates = image_info.get(image_path)\n",
    "        x1,y1,x2,y2 = tuple(map(int, coordinates[3:]))\n",
    "        label = coordinates[0]\n",
    "        cv2.rectangle(image, (x1, y1), (x2, y2), (0, 255, 0), 2)\n",
    "        cv2.putText(image, label, (x1, y1), cv2.QT_FONT_NORMAL, 1, (0, 0, 0), 1)\n",
    "        cv2.imwrite(f'results/cat/bounded_{image_path}',image)"
   ]
  },
  {
   "cell_type": "code",
   "execution_count": 4,
   "metadata": {},
   "outputs": [],
   "source": [
    "if __name__ == '__main__':\n",
    "    image_folder, csv_file = input().strip().split()\n",
    "    image_info = read_csv(csv_file)\n",
    "    draw_bounding_box(image_folder, image_info)"
   ]
  }
 ],
 "metadata": {
  "interpreter": {
   "hash": "9bc1fb48a9c5d4059b7f3f4b838c87318d9d3ffaae829c3e88dfe247f62b430f"
  },
  "kernelspec": {
   "display_name": "Python 3.9.4 ('venv': venv)",
   "language": "python",
   "name": "python3"
  },
  "language_info": {
   "codemirror_mode": {
    "name": "ipython",
    "version": 3
   },
   "file_extension": ".py",
   "mimetype": "text/x-python",
   "name": "python",
   "nbconvert_exporter": "python",
   "pygments_lexer": "ipython3",
   "version": "3.9.4"
  },
  "orig_nbformat": 4
 },
 "nbformat": 4,
 "nbformat_minor": 2
}
