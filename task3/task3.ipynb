{
 "cells": [
  {
   "cell_type": "code",
   "execution_count": 2,
   "metadata": {},
   "outputs": [],
   "source": [
    "import os\n",
    "import pandas as pd\n",
    "import cv2\n",
    "import numpy as np\n",
    "from random import shuffle\n"
   ]
  },
  {
   "cell_type": "code",
   "execution_count": 3,
   "metadata": {},
   "outputs": [],
   "source": [
    "train_dir = 'train_data'\n",
    "df = pd.read_csv('train_labels.csv')\n",
    "IMG_SIZE = 50\n",
    "LR = 1e-3"
   ]
  },
  {
   "cell_type": "code",
   "execution_count": 4,
   "metadata": {},
   "outputs": [],
   "source": [
    "def label_image(img):\n",
    "    result = df.loc[df['id']==int(img)]['label']\n",
    "    if result.tolist()[0] == 'cat':\n",
    "        return 0\n",
    "    else:\n",
    "        return 1"
   ]
  },
  {
   "cell_type": "code",
   "execution_count": 5,
   "metadata": {},
   "outputs": [],
   "source": [
    "def preprocess_training_data():\n",
    "    training_data = []\n",
    "    for img_path in os.listdir(train_dir):\n",
    "        label = label_image(img_path.split('.')[0])\n",
    "        image = cv2.resize(cv2.imread(os.path.join(train_dir,img_path),cv2.IMREAD_UNCHANGED),(IMG_SIZE,IMG_SIZE))\n",
    "        training_data.append([image,label])\n",
    "    shuffle(training_data)\n",
    "    return training_data"
   ]
  },
  {
   "cell_type": "code",
   "execution_count": 6,
   "metadata": {},
   "outputs": [],
   "source": [
    "training_data = preprocess_training_data()"
   ]
  },
  {
   "cell_type": "code",
   "execution_count": 8,
   "metadata": {},
   "outputs": [],
   "source": [
    "X = []\n",
    "y = []\n",
    "for features,label in training_data:\n",
    "    X.append(features)\n",
    "    y.append(label)\n",
    "\n",
    "X = np.array(X)/255\n",
    "y = np.array(y)\n"
   ]
  },
  {
   "cell_type": "code",
   "execution_count": 9,
   "metadata": {},
   "outputs": [],
   "source": [
    "from keras.models import Sequential\n",
    "from keras.layers import Conv2D, MaxPooling2D, Flatten, Dense"
   ]
  },
  {
   "cell_type": "code",
   "execution_count": 16,
   "metadata": {},
   "outputs": [],
   "source": [
    "model = Sequential()\n",
    "\n",
    "model.add(Conv2D(64,(3,3),activation='relu'))\n",
    "model.add(MaxPooling2D(2,2))\n",
    "\n",
    "model.add(Conv2D(64,(3,3),activation='relu'))\n",
    "model.add(MaxPooling2D(2,2))\n",
    "\n",
    "model.add(Conv2D(64,(3,3),activation='relu'))\n",
    "model.add(MaxPooling2D(2,2))\n",
    "\n",
    "model.add(Flatten())\n",
    "model.add(Dense(128,input_shape=X.shape[1:],activation='relu'))\n",
    "model.add(Dense(128,activation='relu'))\n",
    "\n",
    "model.add(Dense(2, activation='softmax'))"
   ]
  },
  {
   "cell_type": "code",
   "execution_count": 18,
   "metadata": {},
   "outputs": [],
   "source": [
    "model.compile(optimizer='adam',loss='sparse_categorical_crossentropy',metrics=['accuracy'])"
   ]
  },
  {
   "cell_type": "code",
   "execution_count": 19,
   "metadata": {},
   "outputs": [
    {
     "name": "stdout",
     "output_type": "stream",
     "text": [
      "Epoch 1/5\n",
      "225/225 [==============================] - 25s 109ms/step - loss: 0.6784 - accuracy: 0.5742 - val_loss: 0.6458 - val_accuracy: 0.6062\n",
      "Epoch 2/5\n",
      "225/225 [==============================] - 24s 109ms/step - loss: 0.6443 - accuracy: 0.6235 - val_loss: 0.6179 - val_accuracy: 0.6575\n",
      "Epoch 3/5\n",
      "225/225 [==============================] - 25s 110ms/step - loss: 0.6061 - accuracy: 0.6683 - val_loss: 0.5925 - val_accuracy: 0.6787\n",
      "Epoch 4/5\n",
      "225/225 [==============================] - 24s 107ms/step - loss: 0.5711 - accuracy: 0.7001 - val_loss: 0.5759 - val_accuracy: 0.6988\n",
      "Epoch 5/5\n",
      "225/225 [==============================] - 25s 109ms/step - loss: 0.5311 - accuracy: 0.7308 - val_loss: 0.5226 - val_accuracy: 0.7325\n"
     ]
    },
    {
     "data": {
      "text/plain": [
       "<keras.callbacks.History at 0x1dd0ce96c70>"
      ]
     },
     "execution_count": 19,
     "metadata": {},
     "output_type": "execute_result"
    }
   ],
   "source": [
    "model.fit(X,y,epochs=5,validation_split=0.1,batch_size=32)"
   ]
  },
  {
   "cell_type": "code",
   "execution_count": 21,
   "metadata": {},
   "outputs": [
    {
     "name": "stdout",
     "output_type": "stream",
     "text": [
      "Model: \"sequential_1\"\n",
      "_________________________________________________________________\n",
      " Layer (type)                Output Shape              Param #   \n",
      "=================================================================\n",
      " conv2d_2 (Conv2D)           (32, 48, 48, 64)          1792      \n",
      "                                                                 \n",
      " max_pooling2d_2 (MaxPooling  (32, 24, 24, 64)         0         \n",
      " 2D)                                                             \n",
      "                                                                 \n",
      " conv2d_3 (Conv2D)           (32, 22, 22, 64)          36928     \n",
      "                                                                 \n",
      " max_pooling2d_3 (MaxPooling  (32, 11, 11, 64)         0         \n",
      " 2D)                                                             \n",
      "                                                                 \n",
      " conv2d_4 (Conv2D)           (32, 9, 9, 64)            36928     \n",
      "                                                                 \n",
      " max_pooling2d_4 (MaxPooling  (32, 4, 4, 64)           0         \n",
      " 2D)                                                             \n",
      "                                                                 \n",
      " flatten_1 (Flatten)         (32, 1024)                0         \n",
      "                                                                 \n",
      " dense_2 (Dense)             (32, 128)                 131200    \n",
      "                                                                 \n",
      " dense_3 (Dense)             (32, 128)                 16512     \n",
      "                                                                 \n",
      " dense_4 (Dense)             (32, 2)                   258       \n",
      "                                                                 \n",
      "=================================================================\n",
      "Total params: 223,618\n",
      "Trainable params: 223,618\n",
      "Non-trainable params: 0\n",
      "_________________________________________________________________\n"
     ]
    }
   ],
   "source": [
    "model.summary()"
   ]
  }
 ],
 "metadata": {
  "interpreter": {
   "hash": "9bc1fb48a9c5d4059b7f3f4b838c87318d9d3ffaae829c3e88dfe247f62b430f"
  },
  "kernelspec": {
   "display_name": "Python 3.9.4 ('venv': venv)",
   "language": "python",
   "name": "python3"
  },
  "language_info": {
   "codemirror_mode": {
    "name": "ipython",
    "version": 3
   },
   "file_extension": ".py",
   "mimetype": "text/x-python",
   "name": "python",
   "nbconvert_exporter": "python",
   "pygments_lexer": "ipython3",
   "version": "3.9.4"
  },
  "orig_nbformat": 4
 },
 "nbformat": 4,
 "nbformat_minor": 2
}
