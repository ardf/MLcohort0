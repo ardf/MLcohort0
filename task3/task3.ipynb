{
 "cells": [
  {
   "cell_type": "code",
   "execution_count": 1,
   "metadata": {},
   "outputs": [],
   "source": [
    "import os\n",
    "import pandas as pd\n",
    "import cv2\n",
    "import numpy as np\n",
    "from random import shuffle\n"
   ]
  },
  {
   "cell_type": "code",
   "execution_count": 2,
   "metadata": {},
   "outputs": [],
   "source": [
    "train_dir = 'train_data'\n",
    "df = pd.read_csv('train_labels.csv')\n",
    "IMG_SIZE = 50\n",
    "LR = 1e-3"
   ]
  },
  {
   "cell_type": "code",
   "execution_count": 3,
   "metadata": {},
   "outputs": [],
   "source": [
    "def label_image(img):\n",
    "    result = df.loc[df['id']==int(img)]['label']\n",
    "    if result.tolist()[0] == 'cat':\n",
    "        return 0\n",
    "    else:\n",
    "        return 1"
   ]
  },
  {
   "cell_type": "code",
   "execution_count": 4,
   "metadata": {},
   "outputs": [],
   "source": [
    "def preprocess_training_data():\n",
    "    training_data = []\n",
    "    for img_path in os.listdir(train_dir):\n",
    "        label = label_image(img_path.split('.')[0])\n",
    "        image = cv2.resize(cv2.imread(os.path.join(train_dir,img_path),cv2.IMREAD_UNCHANGED),(IMG_SIZE,IMG_SIZE))\n",
    "        training_data.append([image,label])\n",
    "    shuffle(training_data)\n",
    "    return training_data"
   ]
  },
  {
   "cell_type": "code",
   "execution_count": 5,
   "metadata": {},
   "outputs": [],
   "source": [
    "training_data = preprocess_training_data()"
   ]
  },
  {
   "cell_type": "code",
   "execution_count": 6,
   "metadata": {},
   "outputs": [],
   "source": [
    "X = []\n",
    "y = []\n",
    "for features,label in training_data:\n",
    "    X.append(features)\n",
    "    y.append(label)\n",
    "\n",
    "X = np.array(X)/255\n",
    "y = np.array(y)\n"
   ]
  },
  {
   "cell_type": "code",
   "execution_count": 7,
   "metadata": {},
   "outputs": [],
   "source": [
    "from keras.models import Sequential\n",
    "from keras.layers import Conv2D, MaxPooling2D, Flatten, Dense"
   ]
  },
  {
   "cell_type": "code",
   "execution_count": 8,
   "metadata": {},
   "outputs": [],
   "source": [
    "model = Sequential()\n",
    "\n",
    "model.add(Conv2D(64,(3,3),activation='relu'))\n",
    "model.add(MaxPooling2D(2,2))\n",
    "\n",
    "model.add(Conv2D(64,(3,3),activation='relu'))\n",
    "model.add(MaxPooling2D(2,2))\n",
    "\n",
    "model.add(Conv2D(64,(3,3),activation='relu'))\n",
    "model.add(MaxPooling2D(2,2))\n",
    "\n",
    "model.add(Flatten())\n",
    "model.add(Dense(128,input_shape=X.shape[1:],activation='relu'))\n",
    "model.add(Dense(128,activation='relu'))\n",
    "\n",
    "model.add(Dense(2, activation='softmax'))"
   ]
  },
  {
   "cell_type": "code",
   "execution_count": 9,
   "metadata": {},
   "outputs": [],
   "source": [
    "model.compile(optimizer='adam',loss='sparse_categorical_crossentropy',metrics=['accuracy'])"
   ]
  },
  {
   "cell_type": "code",
   "execution_count": 10,
   "metadata": {},
   "outputs": [
    {
     "name": "stdout",
     "output_type": "stream",
     "text": [
      "Epoch 1/10\n",
      "225/225 [==============================] - 21s 92ms/step - loss: 0.6845 - accuracy: 0.5517 - val_loss: 0.6637 - val_accuracy: 0.6025\n",
      "Epoch 2/10\n",
      "225/225 [==============================] - 19s 85ms/step - loss: 0.6426 - accuracy: 0.6343 - val_loss: 0.6118 - val_accuracy: 0.6562\n",
      "Epoch 3/10\n",
      "225/225 [==============================] - 21s 94ms/step - loss: 0.5934 - accuracy: 0.6786 - val_loss: 0.5785 - val_accuracy: 0.6963\n",
      "Epoch 4/10\n",
      "225/225 [==============================] - 18s 80ms/step - loss: 0.5639 - accuracy: 0.7060 - val_loss: 0.5597 - val_accuracy: 0.7025\n",
      "Epoch 5/10\n",
      "225/225 [==============================] - 18s 79ms/step - loss: 0.5272 - accuracy: 0.7296 - val_loss: 0.5407 - val_accuracy: 0.7063\n",
      "Epoch 6/10\n",
      "225/225 [==============================] - 17s 75ms/step - loss: 0.5044 - accuracy: 0.7504 - val_loss: 0.5334 - val_accuracy: 0.7312\n",
      "Epoch 7/10\n",
      "225/225 [==============================] - 17s 77ms/step - loss: 0.4703 - accuracy: 0.7713 - val_loss: 0.5226 - val_accuracy: 0.7275\n",
      "Epoch 8/10\n",
      "225/225 [==============================] - 17s 78ms/step - loss: 0.4237 - accuracy: 0.7974 - val_loss: 0.5438 - val_accuracy: 0.7287\n",
      "Epoch 9/10\n",
      "225/225 [==============================] - 17s 76ms/step - loss: 0.4018 - accuracy: 0.8131 - val_loss: 0.5747 - val_accuracy: 0.7325\n",
      "Epoch 10/10\n",
      "225/225 [==============================] - 18s 79ms/step - loss: 0.3490 - accuracy: 0.8471 - val_loss: 0.5741 - val_accuracy: 0.7350\n"
     ]
    },
    {
     "data": {
      "text/plain": [
       "<keras.callbacks.History at 0x125fe891f40>"
      ]
     },
     "execution_count": 10,
     "metadata": {},
     "output_type": "execute_result"
    }
   ],
   "source": [
    "model.fit(X,y,epochs=10,validation_split=0.1,batch_size=32)"
   ]
  },
  {
   "cell_type": "code",
   "execution_count": 11,
   "metadata": {},
   "outputs": [
    {
     "name": "stdout",
     "output_type": "stream",
     "text": [
      "Model: \"sequential\"\n",
      "_________________________________________________________________\n",
      " Layer (type)                Output Shape              Param #   \n",
      "=================================================================\n",
      " conv2d (Conv2D)             (32, 48, 48, 64)          1792      \n",
      "                                                                 \n",
      " max_pooling2d (MaxPooling2D  (32, 24, 24, 64)         0         \n",
      " )                                                               \n",
      "                                                                 \n",
      " conv2d_1 (Conv2D)           (32, 22, 22, 64)          36928     \n",
      "                                                                 \n",
      " max_pooling2d_1 (MaxPooling  (32, 11, 11, 64)         0         \n",
      " 2D)                                                             \n",
      "                                                                 \n",
      " conv2d_2 (Conv2D)           (32, 9, 9, 64)            36928     \n",
      "                                                                 \n",
      " max_pooling2d_2 (MaxPooling  (32, 4, 4, 64)           0         \n",
      " 2D)                                                             \n",
      "                                                                 \n",
      " flatten (Flatten)           (32, 1024)                0         \n",
      "                                                                 \n",
      " dense (Dense)               (32, 128)                 131200    \n",
      "                                                                 \n",
      " dense_1 (Dense)             (32, 128)                 16512     \n",
      "                                                                 \n",
      " dense_2 (Dense)             (32, 2)                   258       \n",
      "                                                                 \n",
      "=================================================================\n",
      "Total params: 223,618\n",
      "Trainable params: 223,618\n",
      "Non-trainable params: 0\n",
      "_________________________________________________________________\n"
     ]
    }
   ],
   "source": [
    "model.summary()"
   ]
  },
  {
   "cell_type": "code",
   "execution_count": 12,
   "metadata": {},
   "outputs": [],
   "source": [
    "test_dir = 'test_data'\n",
    "target_df = pd.read_csv('test_labels.csv')\n"
   ]
  },
  {
   "cell_type": "code",
   "execution_count": 45,
   "metadata": {},
   "outputs": [],
   "source": [
    "def preprocess_testing_data():\n",
    "    testing_data = []\n",
    "    for img_path in os.listdir(test_dir):\n",
    "        label = label_test_image(img_path.split('.')[0])\n",
    "        image = cv2.resize(cv2.imread(os.path.join(test_dir,img_path),cv2.IMREAD_UNCHANGED),(IMG_SIZE,IMG_SIZE))\n",
    "        testing_data.append([image,label])\n",
    "    shuffle(testing_data)\n",
    "    return testing_data"
   ]
  },
  {
   "cell_type": "code",
   "execution_count": 43,
   "metadata": {},
   "outputs": [],
   "source": [
    "def label_test_image(img):\n",
    "    result = target_df.loc[target_df['id']==int(img)]['label']\n",
    "    if result.tolist()[0] == 'cat':\n",
    "        return 0\n",
    "    else:\n",
    "        return 1"
   ]
  },
  {
   "cell_type": "code",
   "execution_count": 54,
   "metadata": {},
   "outputs": [],
   "source": [
    "testing_data = preprocess_testing_data()\n",
    "test_imgs = []\n",
    "test_labels = []\n",
    "for features,label in testing_data:\n",
    "    test_imgs.append(features)\n",
    "    test_labels.append(label)\n",
    "\n",
    "test_imgs = np.array(test_imgs)/255\n",
    "test_labels = np.array(test_labels)"
   ]
  },
  {
   "cell_type": "code",
   "execution_count": 62,
   "metadata": {},
   "outputs": [],
   "source": [
    "predictions = np.argmax(model.predict(test_imgs), axis=1)"
   ]
  },
  {
   "cell_type": "code",
   "execution_count": 64,
   "metadata": {},
   "outputs": [
    {
     "data": {
      "text/plain": [
       "array([0, 0, 1, ..., 0, 0, 0])"
      ]
     },
     "execution_count": 64,
     "metadata": {},
     "output_type": "execute_result"
    }
   ],
   "source": [
    "test_labels"
   ]
  },
  {
   "cell_type": "code",
   "execution_count": 61,
   "metadata": {},
   "outputs": [
    {
     "data": {
      "text/plain": [
       "array([0, 0, 1, ..., 0, 0, 0], dtype=int64)"
      ]
     },
     "execution_count": 61,
     "metadata": {},
     "output_type": "execute_result"
    }
   ],
   "source": [
    "predictions"
   ]
  },
  {
   "cell_type": "code",
   "execution_count": 65,
   "metadata": {},
   "outputs": [
    {
     "name": "stdout",
     "output_type": "stream",
     "text": [
      "63/63 [==============================] - 2s 22ms/step - loss: 0.5703 - accuracy: 0.7242\n"
     ]
    },
    {
     "data": {
      "text/plain": [
       "[0.570263147354126, 0.7242063283920288]"
      ]
     },
     "execution_count": 65,
     "metadata": {},
     "output_type": "execute_result"
    }
   ],
   "source": [
    "model.evaluate(test_imgs,test_labels)"
   ]
  },
  {
   "cell_type": "code",
   "execution_count": 77,
   "metadata": {},
   "outputs": [
    {
     "name": "stdout",
     "output_type": "stream",
     "text": [
      "73.0 %\n"
     ]
    }
   ],
   "source": [
    "count = 0\n",
    "for i in range(2000):\n",
    "    if predictions[i] == test_labels[i]:\n",
    "        count += 1\n",
    "print(count*100/2000,\"%\")"
   ]
  },
  {
   "cell_type": "code",
   "execution_count": null,
   "metadata": {},
   "outputs": [],
   "source": []
  }
 ],
 "metadata": {
  "interpreter": {
   "hash": "9bc1fb48a9c5d4059b7f3f4b838c87318d9d3ffaae829c3e88dfe247f62b430f"
  },
  "kernelspec": {
   "display_name": "Python 3.9.4 ('venv': venv)",
   "language": "python",
   "name": "python3"
  },
  "language_info": {
   "codemirror_mode": {
    "name": "ipython",
    "version": 3
   },
   "file_extension": ".py",
   "mimetype": "text/x-python",
   "name": "python",
   "nbconvert_exporter": "python",
   "pygments_lexer": "ipython3",
   "version": "3.9.4"
  },
  "orig_nbformat": 4
 },
 "nbformat": 4,
 "nbformat_minor": 2
}
