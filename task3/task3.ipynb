{
 "cells": [
  {
   "cell_type": "code",
   "execution_count": 2,
   "metadata": {},
   "outputs": [],
   "source": [
    "import os\n",
    "import pandas as pd\n",
    "import cv2\n",
    "import numpy as np\n",
    "from random import shuffle\n",
    "import pickle"
   ]
  },
  {
   "cell_type": "code",
   "execution_count": 3,
   "metadata": {},
   "outputs": [],
   "source": [
    "train_dir = 'train_data'\n",
    "df = pd.read_csv('train_labels.csv')\n",
    "IMG_SIZE = 28\n",
    "LR = 1e-3"
   ]
  },
  {
   "cell_type": "code",
   "execution_count": 12,
   "metadata": {},
   "outputs": [],
   "source": [
    "def label_image(img):\n",
    "    result = df.loc[df['id']==int(img)]['label']\n",
    "    if result.tolist()[0] == 'cat':\n",
    "        return 0\n",
    "    else:\n",
    "        return 1"
   ]
  },
  {
   "cell_type": "code",
   "execution_count": 5,
   "metadata": {},
   "outputs": [],
   "source": [
    "def preprocess_training_data():\n",
    "    training_data = []\n",
    "    for img_path in os.listdir(train_dir):\n",
    "        label = label_image(img_path.split('.')[0])\n",
    "        image = cv2.resize(cv2.imread(os.path.join(train_dir,img_path),cv2.IMREAD_UNCHANGED),(IMG_SIZE,IMG_SIZE))\n",
    "        training_data.append([image,label])\n",
    "    shuffle(training_data)\n",
    "    return training_data"
   ]
  },
  {
   "cell_type": "code",
   "execution_count": 13,
   "metadata": {},
   "outputs": [],
   "source": [
    "training_data = preprocess_training_data()"
   ]
  },
  {
   "cell_type": "code",
   "execution_count": 14,
   "metadata": {},
   "outputs": [],
   "source": [
    "X = []\n",
    "y = []\n",
    "for features,label in training_data:\n",
    "    X.append(features)\n",
    "    y.append(label)\n",
    "\n",
    "X = np.array(X)/255\n",
    "y = np.array(y)\n"
   ]
  },
  {
   "cell_type": "code",
   "execution_count": 11,
   "metadata": {},
   "outputs": [],
   "source": [
    "from keras.models import Sequential\n",
    "from keras.layers import Conv2D, MaxPooling2D, Flatten, Dense"
   ]
  },
  {
   "cell_type": "code",
   "execution_count": 16,
   "metadata": {},
   "outputs": [],
   "source": [
    "model = Sequential()\n",
    "\n",
    "model.add(Conv2D(64,(3,3),activation='relu'))\n",
    "model.add(MaxPooling2D(2,2))\n",
    "\n",
    "model.add(Conv2D(64,(3,3),activation='relu'))\n",
    "model.add(MaxPooling2D(2,2))\n",
    "\n",
    "model.add(Flatten())\n",
    "model.add(Dense(128,input_shape=X.shape[1:],activation='relu'))\n",
    "\n",
    "model.add(Dense(2, activation='softmax'))"
   ]
  },
  {
   "cell_type": "code",
   "execution_count": 21,
   "metadata": {},
   "outputs": [],
   "source": [
    "model.compile(optimizer='adam',loss='sparse_categorical_crossentropy',metrics=['accuracy'])"
   ]
  },
  {
   "cell_type": "code",
   "execution_count": 22,
   "metadata": {},
   "outputs": [
    {
     "name": "stdout",
     "output_type": "stream",
     "text": [
      "Epoch 1/10\n",
      "225/225 [==============================] - 9s 38ms/step - loss: 0.6758 - accuracy: 0.5799 - val_loss: 0.6602 - val_accuracy: 0.6050\n",
      "Epoch 2/10\n",
      "225/225 [==============================] - 8s 36ms/step - loss: 0.6381 - accuracy: 0.6404 - val_loss: 0.6483 - val_accuracy: 0.5987\n",
      "Epoch 3/10\n",
      "225/225 [==============================] - 8s 36ms/step - loss: 0.6063 - accuracy: 0.6668 - val_loss: 0.6142 - val_accuracy: 0.6500\n",
      "Epoch 4/10\n",
      "225/225 [==============================] - 8s 36ms/step - loss: 0.5845 - accuracy: 0.6904 - val_loss: 0.6149 - val_accuracy: 0.6475\n",
      "Epoch 5/10\n",
      "225/225 [==============================] - 8s 35ms/step - loss: 0.5557 - accuracy: 0.7090 - val_loss: 0.5805 - val_accuracy: 0.6850\n",
      "Epoch 6/10\n",
      "225/225 [==============================] - 8s 37ms/step - loss: 0.5324 - accuracy: 0.7267 - val_loss: 0.6772 - val_accuracy: 0.6612\n",
      "Epoch 7/10\n",
      "225/225 [==============================] - 8s 37ms/step - loss: 0.5011 - accuracy: 0.7528 - val_loss: 0.5940 - val_accuracy: 0.6612\n",
      "Epoch 8/10\n",
      "225/225 [==============================] - 9s 38ms/step - loss: 0.4762 - accuracy: 0.7644 - val_loss: 0.5675 - val_accuracy: 0.7013\n",
      "Epoch 9/10\n",
      "225/225 [==============================] - 8s 34ms/step - loss: 0.4402 - accuracy: 0.7881 - val_loss: 0.5994 - val_accuracy: 0.7163\n",
      "Epoch 10/10\n",
      "225/225 [==============================] - 8s 35ms/step - loss: 0.4070 - accuracy: 0.8064 - val_loss: 0.6032 - val_accuracy: 0.6850\n"
     ]
    },
    {
     "data": {
      "text/plain": [
       "<keras.callbacks.History at 0x1ff05783c70>"
      ]
     },
     "execution_count": 22,
     "metadata": {},
     "output_type": "execute_result"
    }
   ],
   "source": [
    "model.fit(X,y,epochs=10,validation_split=0.1)"
   ]
  },
  {
   "cell_type": "code",
   "execution_count": 23,
   "metadata": {},
   "outputs": [
    {
     "name": "stdout",
     "output_type": "stream",
     "text": [
      "Model: \"sequential_1\"\n",
      "_________________________________________________________________\n",
      " Layer (type)                Output Shape              Param #   \n",
      "=================================================================\n",
      " conv2d_2 (Conv2D)           (32, 26, 26, 64)          1792      \n",
      "                                                                 \n",
      " max_pooling2d_2 (MaxPooling  (32, 13, 13, 64)         0         \n",
      " 2D)                                                             \n",
      "                                                                 \n",
      " conv2d_3 (Conv2D)           (32, 11, 11, 64)          36928     \n",
      "                                                                 \n",
      " max_pooling2d_3 (MaxPooling  (32, 5, 5, 64)           0         \n",
      " 2D)                                                             \n",
      "                                                                 \n",
      " flatten_1 (Flatten)         (32, 1600)                0         \n",
      "                                                                 \n",
      " dense_2 (Dense)             (32, 128)                 204928    \n",
      "                                                                 \n",
      " dense_3 (Dense)             (32, 2)                   258       \n",
      "                                                                 \n",
      "=================================================================\n",
      "Total params: 243,906\n",
      "Trainable params: 243,906\n",
      "Non-trainable params: 0\n",
      "_________________________________________________________________\n"
     ]
    }
   ],
   "source": [
    "model.summary()"
   ]
  }
 ],
 "metadata": {
  "interpreter": {
   "hash": "9bc1fb48a9c5d4059b7f3f4b838c87318d9d3ffaae829c3e88dfe247f62b430f"
  },
  "kernelspec": {
   "display_name": "Python 3.9.4 ('venv': venv)",
   "language": "python",
   "name": "python3"
  },
  "language_info": {
   "codemirror_mode": {
    "name": "ipython",
    "version": 3
   },
   "file_extension": ".py",
   "mimetype": "text/x-python",
   "name": "python",
   "nbconvert_exporter": "python",
   "pygments_lexer": "ipython3",
   "version": "3.9.4"
  },
  "orig_nbformat": 4
 },
 "nbformat": 4,
 "nbformat_minor": 2
}
